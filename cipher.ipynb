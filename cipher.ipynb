{
 "cells": [
  {
   "cell_type": "markdown",
   "id": "1ea05541-9bb8-4bc9-ad85-aae472c22657",
   "metadata": {},
   "source": [
    "<center style=\"font-size:1.5em\">From Caesar to Shannon</center>\n",
    "<br>\n",
    "A symmetric-key cipher consists of the following three procedures/functions:<br>\n",
    "1. $Gen: K$<br>\n",
    "2. $Enc: K × M → C$<br>\n",
    "3. $Dec: K×C→M$<br>\n",
    "<br>\n",
    "Here $Gen$ is always a procedure that outputs a key $k$ chosen uniformly at random from the set $K$ of all keys, whereas $Enc$ and $Dec$ are the encryption and decryption procedures/functions whose definitions depend on the kind of cipher in discussion.<br>\n",
    "\n",
    "Throughout this homework, we will work with the alphabet set $A = \\{0, 1, . . . , 63\\}$. Internally inside your programs, you can simply represent the elements of $A$ using integers as they are. However, at the input and output of your programs, you need to use the following table to encode the elements of $A$:\n",
    "<img src=\"chart.png\" width=\"500\"></br>\n",
    "That is, if we have a message (or key)(7, 30, 37, 37, 40, 62, 48, 40, 43, 37, 29), we should read in as well as output a text string “Hello+world” instead."
   ]
  },
  {
   "cell_type": "markdown",
   "id": "75d7bcc4-fc33-4235-a4c6-bd70881b8d53",
   "metadata": {},
   "source": [
    "# 1. Caesar Cipher\n",
    "In this problem, we take $K = A$ and $M = C = A^n$ for some positive integer $n < 6,000$. In this case, $Enc$ and $Dec$ are the following functions:\n",
    "\n",
    "$$Enc(k, (m_1, m2, ..., m_n)) = (m_1 + k\\ mod\\ 64, m_2 + k\\ mod\\ 64, ..., m_n + k\\ mod\\ 64)$$\n",
    "$$Dec(k, (c_1, c_2, ..., c_n)) = (c_1 - k\\ mod\\ 64, c_2 - k\\ mod\\ 64, ..., c_n - k\\ mod\\ 64)$$\n",
    "\n",
    "Write the following three programs in your favorite programming language:\n",
    "1. $Gen$ takes no input and outputs a k ∈ K;\n",
    "2. $Enc$ takes as input a positive integer n, a key k ∈ K, as well as a plaintext m ∈ M, and outputs a ciphertext c ∈ C;\n",
    "3. $Dec$ takes as input a positive integer n, a key k ∈ K, as well as a ciphertext c ∈ C, and outputs a plaintext m ∈ M.\n",
    "Together, the three programs $Gen$, $Enc$, and $Dec$ should implement the Caesar cipher defined above. For your reference, here are some test vectors.\n",
    "\n",
    "<code>\n",
    "# Gen\n",
    "R\n",
    "# Enc 11 R Hello+world\n",
    "Yv225PB582u\n",
    "# Dec 11 R Yv225PB582u\n",
    "Hello+world\n",
    "</code>"
   ]
  },
  {
   "cell_type": "code",
   "execution_count": 1,
   "id": "6ed80bc0-8514-4717-b82a-542d8cb9abb6",
   "metadata": {},
   "outputs": [
    {
     "name": "stdout",
     "output_type": "stream",
     "text": [
      "chracter_map: {0: 'A', 1: 'B', 2: 'C', 3: 'D', 4: 'E', 5: 'F', 6: 'G', 7: 'H', 8: 'I', 9: 'J', 10: 'K', 11: 'L', 12: 'M', 13: 'N', 14: 'O', 15: 'P', 16: 'Q', 17: 'R', 18: 'S', 19: 'T', 20: 'U', 21: 'V', 22: 'W', 23: 'X', 24: 'Y', 25: 'Z', 26: 'a', 27: 'b', 28: 'c', 29: 'd', 30: 'e', 31: 'f', 32: 'g', 33: 'h', 34: 'i', 35: 'j', 36: 'k', 37: 'l', 38: 'm', 39: 'n', 40: 'o', 41: 'p', 42: 'q', 43: 'r', 44: 's', 45: 't', 46: 'u', 47: 'v', 48: 'w', 49: 'x', 50: 'y', 51: 'z', 52: '0', 53: '1', 54: '2', 55: '3', 56: '4', 57: '5', 58: '6', 59: '7', 60: '8', 61: '9', 62: '+', 63: '/'}\n",
      "code_map: {'A': 0, 'B': 1, 'C': 2, 'D': 3, 'E': 4, 'F': 5, 'G': 6, 'H': 7, 'I': 8, 'J': 9, 'K': 10, 'L': 11, 'M': 12, 'N': 13, 'O': 14, 'P': 15, 'Q': 16, 'R': 17, 'S': 18, 'T': 19, 'U': 20, 'V': 21, 'W': 22, 'X': 23, 'Y': 24, 'Z': 25, 'a': 26, 'b': 27, 'c': 28, 'd': 29, 'e': 30, 'f': 31, 'g': 32, 'h': 33, 'i': 34, 'j': 35, 'k': 36, 'l': 37, 'm': 38, 'n': 39, 'o': 40, 'p': 41, 'q': 42, 'r': 43, 's': 44, 't': 45, 'u': 46, 'v': 47, 'w': 48, 'x': 49, 'y': 50, 'z': 51, '0': 52, '1': 53, '2': 54, '3': 55, '4': 56, '5': 57, '6': 58, '7': 59, '8': 60, '9': 61, '+': 62, '/': 63}\n"
     ]
    }
   ],
   "source": [
    "import random\n",
    "\n",
    "character_map, code_map = {}, {}\n",
    "for i in range(26):\n",
    "    character_map[i] = chr(65 + i)\n",
    "    code_map[chr(65 + i)] = i\n",
    "for i in range(26):\n",
    "    character_map[i + 26] = chr(97 + i)\n",
    "    code_map[chr(97 + i)] = i + 26\n",
    "for i in range(10):\n",
    "    character_map[i + 52] = chr(48 + i)\n",
    "    code_map[chr(48 + i)] = i + 52\n",
    "character_map[62] = \"+\"\n",
    "code_map[\"+\"] = 62\n",
    "character_map[63] = \"/\"\n",
    "code_map[\"/\"] = 63\n",
    "    \n",
    "print(f\"chracter_map: {character_map}\")\n",
    "print(f\"code_map: {code_map}\")"
   ]
  },
  {
   "cell_type": "code",
   "execution_count": 2,
   "id": "c04c5ac6-8978-413c-bc3b-dd30ca32877f",
   "metadata": {},
   "outputs": [
    {
     "name": "stdout",
     "output_type": "stream",
     "text": [
      "Result of ten time's call of Gen: ['I', 'p', '6', 'P', 'w', '7', 'K', 'F', 'E', 'z']\n"
     ]
    }
   ],
   "source": [
    "def gen() -> int:\n",
    "    return character_map[random.randint(0, 63)]\n",
    "\n",
    "result = []\n",
    "for _ in range(10):\n",
    "    result.append(gen())\n",
    "print(f\"Result of ten time's call of Gen: {result}\")"
   ]
  },
  {
   "cell_type": "code",
   "execution_count": 3,
   "id": "09b07b69-0952-4182-abbc-085f2340054a",
   "metadata": {},
   "outputs": [
    {
     "name": "stdout",
     "output_type": "stream",
     "text": [
      "Yv225PB582u\n"
     ]
    }
   ],
   "source": [
    "def enc(n: int, k: str, m: str) -> str:\n",
    "    result = \"\"\n",
    "    for i in range(n):\n",
    "        result += character_map[(code_map[m[i]] + code_map[k]) % 64]\n",
    "\n",
    "    return result\n",
    "\n",
    "print(enc(11, \"R\", \"Hello+world\"))"
   ]
  },
  {
   "cell_type": "code",
   "execution_count": 4,
   "id": "b156cb85-9f6b-43a5-a599-3394e826e0fd",
   "metadata": {},
   "outputs": [
    {
     "name": "stdout",
     "output_type": "stream",
     "text": [
      "Hello+world\n"
     ]
    }
   ],
   "source": [
    "def dec(n: int, k: str, c: str) -> str:\n",
    "    result = \"\"\n",
    "    for i in range(n):\n",
    "        result += character_map[(code_map[c[i]] - code_map[k]) % 64]\n",
    "\n",
    "    return result\n",
    "\n",
    "print(dec(11, \"R\", \"Yv225PB582u\"))"
   ]
  },
  {
   "cell_type": "markdown",
   "id": "43a13f61-bb45-4546-8b5f-55a2aac491ca",
   "metadata": {},
   "source": [
    "# 2. Shannon's One-Time Pad\n",
    "In this problem, we take $K = M = C = A^n$ for some positive integer $n < 6,000$. In this case, $Enc$ and $Dec$ are the following functions:\n",
    "\n",
    "$$Enc((k_1, k_2, ..., k_n), (m_1, m_2, ..., m_n)) =(m_1 + k_1\\ mod\\ 64, m_2 + k_1\\ mod\\ 64, ..., m_n + k_1\\ mod\\ 64)$$\n",
    "$$Dec((k_1, k_2, ..., k_n), (c_1, c_2, ..., c_n)) =(c_1 − k_1\\ mod\\ 64, c_2 − k_1\\ mod\\ 64, ..., c_n − k_1\\ mod\\ 64)$$\n",
    "\n",
    "Write the following three programs in your favorite programming language:\n",
    "1. $Gen$ takes as input a positive integer $n$ and outputs a $k ∈ K$;\n",
    "2. $Enc$ takes as input a positive integer $n$, a key $k ∈ K$, as well as a plaintext $m ∈ M$, and outputs a ciphertext $c ∈ C$;\n",
    "3. $Dec$ takes as input a positive integer $n$, a key $k ∈ K$, as well as a ciphertext $c ∈ C$, and outputs a plaintext $m ∈ M$.\n",
    "\n",
    "Together, the three programs $Gen$, $Enc$, and $Dec$ should implement Shannon’s one-time pad defined above. For your reference, here are some test vectors.\n",
    "\n",
    "<code>\n",
    "# Gen 11\n",
    "IQHfwcepYyN\n",
    "# Enc 11 IQHfwcepYyN Hello+world\n",
    "PusEYaORDXq\n",
    "# Dec 11 IQHfwcepYyN PusEYaORDXq\n",
    "Hello+world\n",
    "</code>"
   ]
  },
  {
   "cell_type": "code",
   "execution_count": 5,
   "id": "490595ce-62cb-4092-8bcb-3c075d0655f4",
   "metadata": {},
   "outputs": [
    {
     "name": "stdout",
     "output_type": "stream",
     "text": [
      "character_set: ['A', 'B', 'C', 'D', 'E', 'F', 'G', 'H', 'I', 'J', 'K', 'L', 'M', 'N', 'O', 'P', 'Q', 'R', 'S', 'T', 'U', 'V', 'W', 'X', 'Y', 'Z', 'a', 'b', 'c', 'd', 'e', 'f', 'g', 'h', 'i', 'j', 'k', 'l', 'm', 'n', 'o', 'p', 'q', 'r', 's', 't', 'u', 'v', 'w', 'x', 'y', 'z', '0', '1', '2', '3', '4', '5', '6', '7', '8', '9', '+', '/']\n"
     ]
    }
   ],
   "source": [
    "character_set = []\n",
    "for i in range(26):\n",
    "    character_set.append(chr(65 + i))\n",
    "for i in range(26):\n",
    "    character_set.append(chr(97 + i))\n",
    "for i in range(10):\n",
    "    character_set.append(chr(48 + i))\n",
    "character_set.append(\"+\")\n",
    "character_set.append(\"/\")\n",
    "\n",
    "print(f\"character_set: {character_set}\")"
   ]
  },
  {
   "cell_type": "code",
   "execution_count": 6,
   "id": "9375a0fe-2938-49f1-8840-df6c0757fccc",
   "metadata": {},
   "outputs": [
    {
     "name": "stdout",
     "output_type": "stream",
     "text": [
      "GtStHc93OD0\n"
     ]
    }
   ],
   "source": [
    "import random\n",
    "\n",
    "def gen(n: int) -> str:\n",
    "    result = \"\"\n",
    "    for _ in range(n):\n",
    "        result += character_map[random.randint(0, 63)]\n",
    "\n",
    "    return result\n",
    "\n",
    "print(gen(11))"
   ]
  },
  {
   "cell_type": "code",
   "execution_count": 7,
   "id": "94ef4487-8f0b-457b-bf2b-2b2ad5b697b2",
   "metadata": {},
   "outputs": [
    {
     "name": "stdout",
     "output_type": "stream",
     "text": [
      "fZvyqp3bB7r\n",
      "+qojZ18rpWT\n"
     ]
    }
   ],
   "source": [
    "def enc(n: int, k: str, m: str) -> str:\n",
    "    result = \"\"\n",
    "    for i in range(n):\n",
    "        result += character_map[((code_map[m[i]] + code_map[k[i]]) % 64)]\n",
    "\n",
    "    return result\n",
    "\n",
    "print(enc(11, \"Y7KNCrHzWWO\", \"Hello+world\"))\n",
    "print(enc(11, \"3MD+x3MD+x2\", \"Hello+world\"))"
   ]
  },
  {
   "cell_type": "code",
   "execution_count": 8,
   "id": "7e68cee2-cd67-4856-8a63-968add954343",
   "metadata": {},
   "outputs": [
    {
     "name": "stdout",
     "output_type": "stream",
     "text": [
      "Hello+world\n"
     ]
    }
   ],
   "source": [
    "def dec(n: int, k: str, m: str) -> str:\n",
    "    result = \"\"\n",
    "    for i in range(n):\n",
    "        result += character_map[((code_map[m[i]] - code_map[k[i]])) % 64]\n",
    "\n",
    "    return result\n",
    "\n",
    "print(dec(11, \"Y7KNCrHzWWO\", \"fZvyqp3bB7r\"))"
   ]
  },
  {
   "cell_type": "markdown",
   "id": "ed525e6d-0ee4-4174-87bf-070b607a232a",
   "metadata": {},
   "source": [
    "# 3. Stream Cipher\n",
    "In this problem, we take $K = A^l$, $M = A^n$, and $C = A^l × A^n$ for some positive integers $l < n < 6,000$. In this case, $Enc$ is a procedure, and $Dec$ is a function, defined as follows:\n",
    "\n",
    "$$Enc((k_1, k_2, ..., k_l), (m_1, m_2, ..., m_n)) = ((i_1, i_2, ..., i_l), (m_1 + \\bar{k}_1\\ mod\\ 64, m2 +\\bar{k}_2\\ mod\\ 64,..., m_n + \\bar{k}_n\\ mod\\ 64))$$\n",
    "$$Dec((k_1, k_2, ..., k_l), \u0000(i_1, i_2, ..., i_l), (c_1, c_2, ..., c_n)) = (c_1 − \\bar{k}_1\\ mod\\ 64, c_2 − \\bar{k}_2\\ mod\\ 64, ..., c_n − \\bar{k}_n\\ mod\\ 64)$$\n",
    "\n",
    "where $(\\bar{k}_1, \\bar{k}_2, ..., \\bar{k}_n) = f((k_1, k_2, ..., k_l), (i_1, i_2, ..., i_l))$ for some pseudorandom function $f : A^l × A^l → A^n$. We note that $Enc$ is\n",
    "not a function because it needs to generate and output an initialization vector $(i_1, i_2, ..., i_l)$ chosen uniformly at random from the set $A^l$ . Recall that a pseudorandom function is an efficiently computable function that approximates a random function in the eyes of computationally bounded adversaries. For this homework, you can simply use a cryptographic hash function such as SHA-256 to build your pseudorandom function, but in practice, you should really use a secure construction as suggested by various established standards.\n",
    "\n",
    "Write the following three programs in your favorite programming language:\n",
    "1. $Gen$ takes as input a positive integer $l$ and outputs a $k ∈ K$;\n",
    "2. $Enc$ takes as input positive integers $l < n$, a key $k ∈ K$, as well as a plaintext $m ∈ M$, and outputs a ciphertext $c ∈ C$;\n",
    "3. $Dec$ takes as input positive integers $l < n$, a key $k ∈ K$, as well as a ciphertext $c ∈ C$, and outputs a plaintext $m ∈ M$.\n",
    "\n",
    "Together, the three programs $Gen$, $Enc$, and $Dec$ should implement the stream cipher defined above. For your reference, here are some test vectors.\n",
    "\n",
    "<code>\n",
    "# Gen 5\n",
    "M+Dx3\n",
    "# Enc 5 11 M+Dx3 Hello+world\n",
    "3MD+xCbAEF2ohofa\n",
    "# Dec 5 11 M+Dx3 3MD+xCbAEF2ohofa\n",
    "Hello+world\n",
    "</code>"
   ]
  },
  {
   "cell_type": "code",
   "execution_count": 9,
   "id": "475c3159-f3c5-48f7-8a98-a139dde79c3f",
   "metadata": {},
   "outputs": [
    {
     "name": "stdout",
     "output_type": "stream",
     "text": [
      "03MU5\n"
     ]
    }
   ],
   "source": [
    "import random\n",
    "\n",
    "def gen(l: int) -> str:\n",
    "    result = \"\"\n",
    "    for _ in range(l):\n",
    "        result += character_map[random.randint(0, 63)]\n",
    "        \n",
    "    return result\n",
    "\n",
    "print(gen(5))"
   ]
  },
  {
   "cell_type": "code",
   "execution_count": 10,
   "id": "cef75389-41cc-4125-9847-ad6f7a8bb644",
   "metadata": {},
   "outputs": [
    {
     "name": "stdout",
     "output_type": "stream",
     "text": [
      "x+3MDjWdEd1OCkD3\n"
     ]
    }
   ],
   "source": [
    "import hashlib\n",
    "import hmac\n",
    "from random import sample\n",
    "\n",
    "def enc(l: int, n: int, k: str, m: str) -> str:\n",
    "    shuffled_k = \"\".join(sample(k, len(k)))\n",
    "    key = hmac.new(k.encode(\"utf-8\"), shuffled_k.encode(\"utf-8\"), hashlib.sha256).hexdigest()\n",
    "\n",
    "    result = shuffled_k\n",
    "    for i in range(n):\n",
    "        result += character_map[(code_map[m[i]] + code_map[key[i]]) % 64]\n",
    "        \n",
    "    return result\n",
    "\n",
    "print(enc(5, 11, \"M+Dx3\", \"Hello+world\"))"
   ]
  },
  {
   "cell_type": "code",
   "execution_count": 11,
   "id": "ed99019a-6a71-4981-bd8d-98074651fec8",
   "metadata": {},
   "outputs": [
    {
     "name": "stdout",
     "output_type": "stream",
     "text": [
      "Hello+world\n"
     ]
    }
   ],
   "source": [
    "import hashlib\n",
    "import hmac\n",
    "\n",
    "def dec(l: int, n: int, k: str, c: str) -> str:\n",
    "    shuffled_k = c[: l]\n",
    "    key = hmac.new(k.encode(\"utf-8\"), shuffled_k.encode(\"utf-8\"), hashlib.sha256).hexdigest()\n",
    "\n",
    "    result = \"\"\n",
    "    for i in range(n):\n",
    "        result += character_map[(code_map[c[l + i]] - code_map[key[i]]) % 64]\n",
    "    \n",
    "    return result\n",
    "\n",
    "print(dec(5, 11, \"M+Dx3\", \"D+x3M7VcfE4rijB8\"))"
   ]
  },
  {
   "cell_type": "markdown",
   "id": "3362399f",
   "metadata": {},
   "source": [
    "# Extra: Cipher Image"
   ]
  },
  {
   "cell_type": "code",
   "execution_count": 12,
   "id": "9673e708",
   "metadata": {
    "scrolled": true
   },
   "outputs": [],
   "source": [
    "input_image, output_image = \"chart.png\", \"cypher.png\"\n",
    "key = 22\n",
    "\n",
    "with open(input_image, \"rb\") as file:\n",
    "    image = file.read()\n",
    "    image = bytearray(image)\n",
    "    \n",
    "for i in range(len(image)):\n",
    "    image[i] ^= key\n",
    "    \n",
    "with open(output_image, \"wb\") as file:\n",
    "    file.write(image)"
   ]
  },
  {
   "cell_type": "code",
   "execution_count": 13,
   "id": "a4fb5979",
   "metadata": {},
   "outputs": [],
   "source": [
    "input_image, output_image = \"cypher.png\", \"result.png\"\n",
    "key = 22\n",
    "\n",
    "with open(input_image, \"rb\") as file:\n",
    "    image = file.read()\n",
    "    image = bytearray(image)\n",
    "    \n",
    "key = 22\n",
    "\n",
    "for i in range(len(image)):\n",
    "    image[i] ^= key\n",
    "\n",
    "with open(output_image, \"wb\") as file:\n",
    "    file.write(image)"
   ]
  }
 ],
 "metadata": {
  "kernelspec": {
   "display_name": "Python 3 (ipykernel)",
   "language": "python",
   "name": "python3"
  },
  "language_info": {
   "codemirror_mode": {
    "name": "ipython",
    "version": 3
   },
   "file_extension": ".py",
   "mimetype": "text/x-python",
   "name": "python",
   "nbconvert_exporter": "python",
   "pygments_lexer": "ipython3",
   "version": "3.9.13"
  }
 },
 "nbformat": 4,
 "nbformat_minor": 5
}
